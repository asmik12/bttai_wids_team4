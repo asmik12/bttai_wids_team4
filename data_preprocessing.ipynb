{
 "cells": [
  {
   "cell_type": "markdown",
   "metadata": {},
   "source": [
    "## Defining the Goal\n",
    "Challenge Question and Task:\n",
    "**“What brain activity patterns are associated with ADHD; are they different between males and females, and, if so, how?”**\n",
    "\n",
    "The task is to create a multi-outcome model to predict two separate target variables: \n",
    "1) ADHD (1=yes or 0=no) and \n",
    "2) female (1=yes or 0=no).\n"
   ]
  },
  {
   "cell_type": "markdown",
   "metadata": {},
   "source": [
    "### Summary of what this notebook does\n",
    "1. Imports all the data into dataframes\n",
    "2. Encodes the categorical features from `TRAIN_CATEGORICAL_METADATA.XLSX` appropriately\n",
    "3. Label encodes the `ADHD_Outcome` feature from `TRAINING_SOLUTIONS.XLSX` (previously str)\n",
    "4. ADD\n",
    "5. ADD\n",
    "6. ADD\n",
    "7. ADD\n",
    "8. Merges the data into one single dataframe and saves it to a csv file called `merged_data.csv`"
   ]
  },
  {
   "cell_type": "code",
   "execution_count": 10,
   "metadata": {},
   "outputs": [],
   "source": [
    "#Importing the required libraries\n",
    "import numpy as np\n",
    "import pandas as pd\n",
    "from sklearn.preprocessing import LabelEncoder"
   ]
  },
  {
   "cell_type": "code",
   "execution_count": 3,
   "metadata": {},
   "outputs": [],
   "source": [
    "# Importing and preprocessing the dataset\n",
    "cat_metadata = pd.read_excel('data\\TRAIN\\TRAIN_CATEGORICAL_METADATA.xlsx') # Categorical metadata\n",
    "connectome_matrices = pd.read_csv('data\\TRAIN\\TRAIN_FUNCTIONAL_CONNECTOME_MATRICES.csv') #Connectome matrices\n",
    "quant_metadata = pd.read_excel('data\\TRAIN\\TRAIN_QUANTITATIVE_METADATA.xlsx') # Quantitative metadata\n",
    "sol = pd.read_excel('data\\TRAIN\\TRAINING_SOLUTIONS.xlsx') # Solutions to the training data examples"
   ]
  },
  {
   "cell_type": "code",
   "execution_count": 4,
   "metadata": {},
   "outputs": [
    {
     "name": "stdout",
     "output_type": "stream",
     "text": [
      "<class 'pandas.core.frame.DataFrame'>\n",
      "RangeIndex: 1213 entries, 0 to 1212\n",
      "Data columns (total 10 columns):\n",
      " #   Column                            Non-Null Count  Dtype  \n",
      "---  ------                            --------------  -----  \n",
      " 0   participant_id                    1213 non-null   object \n",
      " 1   Basic_Demos_Enroll_Year           1213 non-null   int64  \n",
      " 2   Basic_Demos_Study_Site            1213 non-null   int64  \n",
      " 3   PreInt_Demos_Fam_Child_Ethnicity  1202 non-null   float64\n",
      " 4   PreInt_Demos_Fam_Child_Race       1213 non-null   int64  \n",
      " 5   MRI_Track_Scan_Location           1213 non-null   int64  \n",
      " 6   Barratt_Barratt_P1_Edu            1213 non-null   int64  \n",
      " 7   Barratt_Barratt_P1_Occ            1213 non-null   int64  \n",
      " 8   Barratt_Barratt_P2_Edu            1213 non-null   int64  \n",
      " 9   Barratt_Barratt_P2_Occ            1213 non-null   int64  \n",
      "dtypes: float64(1), int64(8), object(1)\n",
      "memory usage: 94.9+ KB\n"
     ]
    }
   ],
   "source": [
    "cat_metadata.info()"
   ]
  },
  {
   "cell_type": "code",
   "execution_count": 5,
   "metadata": {},
   "outputs": [
    {
     "data": {
      "text/html": [
       "<div>\n",
       "<style scoped>\n",
       "    .dataframe tbody tr th:only-of-type {\n",
       "        vertical-align: middle;\n",
       "    }\n",
       "\n",
       "    .dataframe tbody tr th {\n",
       "        vertical-align: top;\n",
       "    }\n",
       "\n",
       "    .dataframe thead th {\n",
       "        text-align: right;\n",
       "    }\n",
       "</style>\n",
       "<table border=\"1\" class=\"dataframe\">\n",
       "  <thead>\n",
       "    <tr style=\"text-align: right;\">\n",
       "      <th></th>\n",
       "      <th>participant_id</th>\n",
       "      <th>Basic_Demos_Enroll_Year</th>\n",
       "      <th>Basic_Demos_Study_Site</th>\n",
       "      <th>PreInt_Demos_Fam_Child_Ethnicity</th>\n",
       "      <th>PreInt_Demos_Fam_Child_Race</th>\n",
       "      <th>MRI_Track_Scan_Location</th>\n",
       "      <th>Barratt_Barratt_P1_Edu</th>\n",
       "      <th>Barratt_Barratt_P1_Occ</th>\n",
       "      <th>Barratt_Barratt_P2_Edu</th>\n",
       "      <th>Barratt_Barratt_P2_Occ</th>\n",
       "    </tr>\n",
       "  </thead>\n",
       "  <tbody>\n",
       "    <tr>\n",
       "      <th>0</th>\n",
       "      <td>UmrK0vMLopoR</td>\n",
       "      <td>2016</td>\n",
       "      <td>1</td>\n",
       "      <td>0.0</td>\n",
       "      <td>0</td>\n",
       "      <td>1</td>\n",
       "      <td>21</td>\n",
       "      <td>45</td>\n",
       "      <td>21</td>\n",
       "      <td>45</td>\n",
       "    </tr>\n",
       "    <tr>\n",
       "      <th>1</th>\n",
       "      <td>CPaeQkhcjg7d</td>\n",
       "      <td>2019</td>\n",
       "      <td>3</td>\n",
       "      <td>1.0</td>\n",
       "      <td>2</td>\n",
       "      <td>3</td>\n",
       "      <td>15</td>\n",
       "      <td>15</td>\n",
       "      <td>0</td>\n",
       "      <td>0</td>\n",
       "    </tr>\n",
       "    <tr>\n",
       "      <th>2</th>\n",
       "      <td>Nb4EetVPm3gs</td>\n",
       "      <td>2016</td>\n",
       "      <td>1</td>\n",
       "      <td>1.0</td>\n",
       "      <td>8</td>\n",
       "      <td>1</td>\n",
       "      <td>18</td>\n",
       "      <td>40</td>\n",
       "      <td>0</td>\n",
       "      <td>0</td>\n",
       "    </tr>\n",
       "    <tr>\n",
       "      <th>3</th>\n",
       "      <td>p4vPhVu91o4b</td>\n",
       "      <td>2018</td>\n",
       "      <td>3</td>\n",
       "      <td>0.0</td>\n",
       "      <td>8</td>\n",
       "      <td>3</td>\n",
       "      <td>15</td>\n",
       "      <td>30</td>\n",
       "      <td>18</td>\n",
       "      <td>0</td>\n",
       "    </tr>\n",
       "    <tr>\n",
       "      <th>4</th>\n",
       "      <td>M09PXs7arQ5E</td>\n",
       "      <td>2019</td>\n",
       "      <td>3</td>\n",
       "      <td>0.0</td>\n",
       "      <td>1</td>\n",
       "      <td>3</td>\n",
       "      <td>15</td>\n",
       "      <td>20</td>\n",
       "      <td>0</td>\n",
       "      <td>0</td>\n",
       "    </tr>\n",
       "  </tbody>\n",
       "</table>\n",
       "</div>"
      ],
      "text/plain": [
       "  participant_id  Basic_Demos_Enroll_Year  Basic_Demos_Study_Site  \\\n",
       "0   UmrK0vMLopoR                     2016                       1   \n",
       "1   CPaeQkhcjg7d                     2019                       3   \n",
       "2   Nb4EetVPm3gs                     2016                       1   \n",
       "3   p4vPhVu91o4b                     2018                       3   \n",
       "4   M09PXs7arQ5E                     2019                       3   \n",
       "\n",
       "   PreInt_Demos_Fam_Child_Ethnicity  PreInt_Demos_Fam_Child_Race  \\\n",
       "0                               0.0                            0   \n",
       "1                               1.0                            2   \n",
       "2                               1.0                            8   \n",
       "3                               0.0                            8   \n",
       "4                               0.0                            1   \n",
       "\n",
       "   MRI_Track_Scan_Location  Barratt_Barratt_P1_Edu  Barratt_Barratt_P1_Occ  \\\n",
       "0                        1                      21                      45   \n",
       "1                        3                      15                      15   \n",
       "2                        1                      18                      40   \n",
       "3                        3                      15                      30   \n",
       "4                        3                      15                      20   \n",
       "\n",
       "   Barratt_Barratt_P2_Edu  Barratt_Barratt_P2_Occ  \n",
       "0                      21                      45  \n",
       "1                       0                       0  \n",
       "2                       0                       0  \n",
       "3                      18                       0  \n",
       "4                       0                       0  "
      ]
     },
     "execution_count": 5,
     "metadata": {},
     "output_type": "execute_result"
    }
   ],
   "source": [
    "cat_metadata.head()"
   ]
  },
  {
   "cell_type": "code",
   "execution_count": 5,
   "metadata": {},
   "outputs": [
    {
     "data": {
      "text/html": [
       "<div>\n",
       "<style scoped>\n",
       "    .dataframe tbody tr th:only-of-type {\n",
       "        vertical-align: middle;\n",
       "    }\n",
       "\n",
       "    .dataframe tbody tr th {\n",
       "        vertical-align: top;\n",
       "    }\n",
       "\n",
       "    .dataframe thead th {\n",
       "        text-align: right;\n",
       "    }\n",
       "</style>\n",
       "<table border=\"1\" class=\"dataframe\">\n",
       "  <thead>\n",
       "    <tr style=\"text-align: right;\">\n",
       "      <th></th>\n",
       "      <th>participant_id</th>\n",
       "      <th>0throw_1thcolumn</th>\n",
       "      <th>0throw_2thcolumn</th>\n",
       "      <th>0throw_3thcolumn</th>\n",
       "      <th>0throw_4thcolumn</th>\n",
       "      <th>0throw_5thcolumn</th>\n",
       "      <th>0throw_6thcolumn</th>\n",
       "      <th>0throw_7thcolumn</th>\n",
       "      <th>0throw_8thcolumn</th>\n",
       "      <th>0throw_9thcolumn</th>\n",
       "      <th>...</th>\n",
       "      <th>195throw_196thcolumn</th>\n",
       "      <th>195throw_197thcolumn</th>\n",
       "      <th>195throw_198thcolumn</th>\n",
       "      <th>195throw_199thcolumn</th>\n",
       "      <th>196throw_197thcolumn</th>\n",
       "      <th>196throw_198thcolumn</th>\n",
       "      <th>196throw_199thcolumn</th>\n",
       "      <th>197throw_198thcolumn</th>\n",
       "      <th>197throw_199thcolumn</th>\n",
       "      <th>198throw_199thcolumn</th>\n",
       "    </tr>\n",
       "  </thead>\n",
       "  <tbody>\n",
       "    <tr>\n",
       "      <th>0</th>\n",
       "      <td>70z8Q2xdTXM3</td>\n",
       "      <td>0.093473</td>\n",
       "      <td>0.146902</td>\n",
       "      <td>0.067893</td>\n",
       "      <td>0.015141</td>\n",
       "      <td>0.070221</td>\n",
       "      <td>0.063997</td>\n",
       "      <td>0.055382</td>\n",
       "      <td>-0.035335</td>\n",
       "      <td>0.068583</td>\n",
       "      <td>...</td>\n",
       "      <td>0.003404</td>\n",
       "      <td>-0.010359</td>\n",
       "      <td>-0.050968</td>\n",
       "      <td>-0.014365</td>\n",
       "      <td>0.128066</td>\n",
       "      <td>0.112646</td>\n",
       "      <td>-0.058980</td>\n",
       "      <td>0.028228</td>\n",
       "      <td>0.133582</td>\n",
       "      <td>0.143372</td>\n",
       "    </tr>\n",
       "    <tr>\n",
       "      <th>1</th>\n",
       "      <td>WHWymJu6zNZi</td>\n",
       "      <td>0.029580</td>\n",
       "      <td>0.179323</td>\n",
       "      <td>0.112933</td>\n",
       "      <td>0.038291</td>\n",
       "      <td>0.104899</td>\n",
       "      <td>0.064250</td>\n",
       "      <td>0.008488</td>\n",
       "      <td>0.077505</td>\n",
       "      <td>-0.004750</td>\n",
       "      <td>...</td>\n",
       "      <td>-0.008409</td>\n",
       "      <td>-0.008479</td>\n",
       "      <td>0.020891</td>\n",
       "      <td>0.017754</td>\n",
       "      <td>0.094040</td>\n",
       "      <td>0.035141</td>\n",
       "      <td>0.032537</td>\n",
       "      <td>0.075007</td>\n",
       "      <td>0.115350</td>\n",
       "      <td>0.138200</td>\n",
       "    </tr>\n",
       "    <tr>\n",
       "      <th>2</th>\n",
       "      <td>4PAQp1M6EyAo</td>\n",
       "      <td>-0.051580</td>\n",
       "      <td>0.139734</td>\n",
       "      <td>0.068295</td>\n",
       "      <td>0.046991</td>\n",
       "      <td>0.111085</td>\n",
       "      <td>0.026978</td>\n",
       "      <td>0.151377</td>\n",
       "      <td>0.021198</td>\n",
       "      <td>0.083721</td>\n",
       "      <td>...</td>\n",
       "      <td>0.053245</td>\n",
       "      <td>-0.028003</td>\n",
       "      <td>0.028773</td>\n",
       "      <td>0.024556</td>\n",
       "      <td>0.166343</td>\n",
       "      <td>0.058925</td>\n",
       "      <td>0.035485</td>\n",
       "      <td>0.063661</td>\n",
       "      <td>0.042862</td>\n",
       "      <td>0.162162</td>\n",
       "    </tr>\n",
       "    <tr>\n",
       "      <th>3</th>\n",
       "      <td>obEacy4Of68I</td>\n",
       "      <td>0.016273</td>\n",
       "      <td>0.204702</td>\n",
       "      <td>0.115980</td>\n",
       "      <td>0.043103</td>\n",
       "      <td>0.056431</td>\n",
       "      <td>0.057615</td>\n",
       "      <td>0.055773</td>\n",
       "      <td>0.075030</td>\n",
       "      <td>0.001033</td>\n",
       "      <td>...</td>\n",
       "      <td>-0.023918</td>\n",
       "      <td>-0.005356</td>\n",
       "      <td>0.018607</td>\n",
       "      <td>0.016193</td>\n",
       "      <td>0.072955</td>\n",
       "      <td>0.130135</td>\n",
       "      <td>0.056120</td>\n",
       "      <td>0.084784</td>\n",
       "      <td>0.114148</td>\n",
       "      <td>0.190584</td>\n",
       "    </tr>\n",
       "    <tr>\n",
       "      <th>4</th>\n",
       "      <td>s7WzzDcmDOhF</td>\n",
       "      <td>0.065771</td>\n",
       "      <td>0.098714</td>\n",
       "      <td>0.097604</td>\n",
       "      <td>0.112988</td>\n",
       "      <td>0.071139</td>\n",
       "      <td>0.085607</td>\n",
       "      <td>0.019392</td>\n",
       "      <td>-0.036403</td>\n",
       "      <td>-0.020375</td>\n",
       "      <td>...</td>\n",
       "      <td>0.066439</td>\n",
       "      <td>-0.076680</td>\n",
       "      <td>-0.047530</td>\n",
       "      <td>-0.031443</td>\n",
       "      <td>0.221213</td>\n",
       "      <td>0.007343</td>\n",
       "      <td>0.005763</td>\n",
       "      <td>0.083820</td>\n",
       "      <td>0.079582</td>\n",
       "      <td>0.067269</td>\n",
       "    </tr>\n",
       "  </tbody>\n",
       "</table>\n",
       "<p>5 rows × 19901 columns</p>\n",
       "</div>"
      ],
      "text/plain": [
       "  participant_id  0throw_1thcolumn  0throw_2thcolumn  0throw_3thcolumn  \\\n",
       "0   70z8Q2xdTXM3          0.093473          0.146902          0.067893   \n",
       "1   WHWymJu6zNZi          0.029580          0.179323          0.112933   \n",
       "2   4PAQp1M6EyAo         -0.051580          0.139734          0.068295   \n",
       "3   obEacy4Of68I          0.016273          0.204702          0.115980   \n",
       "4   s7WzzDcmDOhF          0.065771          0.098714          0.097604   \n",
       "\n",
       "   0throw_4thcolumn  0throw_5thcolumn  0throw_6thcolumn  0throw_7thcolumn  \\\n",
       "0          0.015141          0.070221          0.063997          0.055382   \n",
       "1          0.038291          0.104899          0.064250          0.008488   \n",
       "2          0.046991          0.111085          0.026978          0.151377   \n",
       "3          0.043103          0.056431          0.057615          0.055773   \n",
       "4          0.112988          0.071139          0.085607          0.019392   \n",
       "\n",
       "   0throw_8thcolumn  0throw_9thcolumn  ...  195throw_196thcolumn  \\\n",
       "0         -0.035335          0.068583  ...              0.003404   \n",
       "1          0.077505         -0.004750  ...             -0.008409   \n",
       "2          0.021198          0.083721  ...              0.053245   \n",
       "3          0.075030          0.001033  ...             -0.023918   \n",
       "4         -0.036403         -0.020375  ...              0.066439   \n",
       "\n",
       "   195throw_197thcolumn  195throw_198thcolumn  195throw_199thcolumn  \\\n",
       "0             -0.010359             -0.050968             -0.014365   \n",
       "1             -0.008479              0.020891              0.017754   \n",
       "2             -0.028003              0.028773              0.024556   \n",
       "3             -0.005356              0.018607              0.016193   \n",
       "4             -0.076680             -0.047530             -0.031443   \n",
       "\n",
       "   196throw_197thcolumn  196throw_198thcolumn  196throw_199thcolumn  \\\n",
       "0              0.128066              0.112646             -0.058980   \n",
       "1              0.094040              0.035141              0.032537   \n",
       "2              0.166343              0.058925              0.035485   \n",
       "3              0.072955              0.130135              0.056120   \n",
       "4              0.221213              0.007343              0.005763   \n",
       "\n",
       "   197throw_198thcolumn  197throw_199thcolumn  198throw_199thcolumn  \n",
       "0              0.028228              0.133582              0.143372  \n",
       "1              0.075007              0.115350              0.138200  \n",
       "2              0.063661              0.042862              0.162162  \n",
       "3              0.084784              0.114148              0.190584  \n",
       "4              0.083820              0.079582              0.067269  \n",
       "\n",
       "[5 rows x 19901 columns]"
      ]
     },
     "execution_count": 5,
     "metadata": {},
     "output_type": "execute_result"
    }
   ],
   "source": [
    "connectome_matrices.head()"
   ]
  },
  {
   "cell_type": "code",
   "execution_count": 6,
   "metadata": {},
   "outputs": [
    {
     "name": "stdout",
     "output_type": "stream",
     "text": [
      "<class 'pandas.core.frame.DataFrame'>\n",
      "RangeIndex: 1213 entries, 0 to 1212\n",
      "Data columns (total 19 columns):\n",
      " #   Column                      Non-Null Count  Dtype  \n",
      "---  ------                      --------------  -----  \n",
      " 0   participant_id              1213 non-null   object \n",
      " 1   EHQ_EHQ_Total               1213 non-null   float64\n",
      " 2   ColorVision_CV_Score        1213 non-null   int64  \n",
      " 3   APQ_P_APQ_P_CP              1213 non-null   int64  \n",
      " 4   APQ_P_APQ_P_ID              1213 non-null   int64  \n",
      " 5   APQ_P_APQ_P_INV             1213 non-null   int64  \n",
      " 6   APQ_P_APQ_P_OPD             1213 non-null   int64  \n",
      " 7   APQ_P_APQ_P_PM              1213 non-null   int64  \n",
      " 8   APQ_P_APQ_P_PP              1213 non-null   int64  \n",
      " 9   SDQ_SDQ_Conduct_Problems    1213 non-null   int64  \n",
      " 10  SDQ_SDQ_Difficulties_Total  1213 non-null   int64  \n",
      " 11  SDQ_SDQ_Emotional_Problems  1213 non-null   int64  \n",
      " 12  SDQ_SDQ_Externalizing       1213 non-null   int64  \n",
      " 13  SDQ_SDQ_Generating_Impact   1213 non-null   int64  \n",
      " 14  SDQ_SDQ_Hyperactivity       1213 non-null   int64  \n",
      " 15  SDQ_SDQ_Internalizing       1213 non-null   int64  \n",
      " 16  SDQ_SDQ_Peer_Problems       1213 non-null   int64  \n",
      " 17  SDQ_SDQ_Prosocial           1213 non-null   int64  \n",
      " 18  MRI_Track_Age_at_Scan       853 non-null    float64\n",
      "dtypes: float64(2), int64(16), object(1)\n",
      "memory usage: 180.2+ KB\n"
     ]
    }
   ],
   "source": [
    "quant_metadata.info()"
   ]
  },
  {
   "cell_type": "code",
   "execution_count": 7,
   "metadata": {},
   "outputs": [
    {
     "name": "stdout",
     "output_type": "stream",
     "text": [
      "<class 'pandas.core.frame.DataFrame'>\n",
      "RangeIndex: 1213 entries, 0 to 1212\n",
      "Data columns (total 3 columns):\n",
      " #   Column          Non-Null Count  Dtype \n",
      "---  ------          --------------  ----- \n",
      " 0   participant_id  1213 non-null   object\n",
      " 1   ADHD_Outcome    1213 non-null   int64 \n",
      " 2   Sex_F           1213 non-null   int64 \n",
      "dtypes: int64(2), object(1)\n",
      "memory usage: 28.6+ KB\n"
     ]
    }
   ],
   "source": [
    "sol.info()"
   ]
  },
  {
   "cell_type": "code",
   "execution_count": 23,
   "metadata": {},
   "outputs": [
    {
     "name": "stdout",
     "output_type": "stream",
     "text": [
      "NAN for Categorical Data:participant_id                       0\n",
      "Basic_Demos_Enroll_Year              0\n",
      "Basic_Demos_Study_Site               0\n",
      "PreInt_Demos_Fam_Child_Ethnicity    11\n",
      "PreInt_Demos_Fam_Child_Race          0\n",
      "MRI_Track_Scan_Location              0\n",
      "Barratt_Barratt_P1_Edu               0\n",
      "Barratt_Barratt_P1_Occ               0\n",
      "Barratt_Barratt_P2_Edu               0\n",
      "Barratt_Barratt_P2_Occ               0\n",
      "dtype: int64\n"
     ]
    }
   ],
   "source": [
    "# Counting how many nan values in each column of each dataset\n",
    "print(f\"NAN for Categorical Data:{cat_metadata.isna().sum()}\")"
   ]
  },
  {
   "cell_type": "markdown",
   "metadata": {},
   "source": [
    "All of the datasets have non null data for 1213 examples (in the training data). No further preprocessing required to impute missing values. "
   ]
  },
  {
   "cell_type": "markdown",
   "metadata": {},
   "source": [
    "## Encode Categorical Features/Feature Engineering\n",
    "\n",
    "Read `Data Dictionary.xlsx`. It details the values/descriptions of the data in all the files. Note that all the variables in the Categorical Metadata file can be one hot encoded (or preprocessed in some way).\n",
    "\n",
    "**Design Decision 1**: HOW DO WE ENCODE THESE?\n",
    "1. One Hot Encoding\n",
    "2. Label Encoding\n",
    "\n",
    "Asmi's thoughts: One Hot Encoding might lead to sparse data because there are a lot of categories for some of the features. But label encoding might imply some sort of hierarchy among the feature values (that may not necessarily be the case).\n",
    "\n",
    "ASK  TA\n",
    "\n",
    "Final Decision [ADD HERE]"
   ]
  },
  {
   "cell_type": "code",
   "execution_count": 8,
   "metadata": {},
   "outputs": [],
   "source": [
    "# Encoding the categorical variables"
   ]
  },
  {
   "cell_type": "markdown",
   "metadata": {},
   "source": [
    "Notice that in Target Variables given in `TRAINING_SOLUTIONS.XLSX` the `ADHD_Outcome` field is a string. We need to convert this to a label encoded categorical int. This is done by the code in the cell below. "
   ]
  },
  {
   "cell_type": "code",
   "execution_count": 13,
   "metadata": {},
   "outputs": [
    {
     "name": "stdout",
     "output_type": "stream",
     "text": [
      "<class 'pandas.core.frame.DataFrame'>\n",
      "RangeIndex: 1213 entries, 0 to 1212\n",
      "Data columns (total 3 columns):\n",
      " #   Column          Non-Null Count  Dtype \n",
      "---  ------          --------------  ----- \n",
      " 0   participant_id  1213 non-null   object\n",
      " 1   ADHD_Outcome    1213 non-null   int64 \n",
      " 2   Sex_F           1213 non-null   int64 \n",
      "dtypes: int64(2), object(1)\n",
      "memory usage: 28.6+ KB\n"
     ]
    }
   ],
   "source": [
    "# Converting ADHD_Outcome to categorical int\n",
    "label_encoder = LabelEncoder()\n",
    "sol['ADHD_Outcome'] = label_encoder.fit_transform(sol['ADHD_Outcome'])  #Converts it to a categorical int\n",
    "sol.info()"
   ]
  },
  {
   "cell_type": "markdown",
   "metadata": {},
   "source": [
    "### Feature Creation\n",
    "\n",
    "Notice from the `DATA DICTIONARY.XLSX` file that the `EHQ_EHQ_Total` variable from `TRAIN_QUANTITATIVE_METADATA.XLSX` that represents the Latrality Index (Score) is a float, but the numbers correspond to 3 broad categories:\n",
    "- -100 = 10th left\n",
    "- -28 <= LI < 48 ------> middle\n",
    "- 100 = 10th right\n",
    "\n",
    "**Design Decision 2:** DO WE ENCODE THIS DATA AS WELL?"
   ]
  },
  {
   "cell_type": "code",
   "execution_count": null,
   "metadata": {},
   "outputs": [
    {
     "name": "stdout",
     "output_type": "stream",
     "text": [
      "Number of unique values in this column: 158\n"
     ]
    }
   ],
   "source": [
    "# Add code to potentially encode/process EHQ_EHQ_Total Data\n",
    "print(f\"Number of unique values in this column: {quant_metadata['EHQ_EHQ_Total'].nunique()}\")\n"
   ]
  },
  {
   "cell_type": "code",
   "execution_count": 22,
   "metadata": {},
   "outputs": [
    {
     "data": {
      "text/plain": [
       "array([      nan,       nan,  8.239904, ...,       nan, 12.089094,\n",
       "       12.59571 ], shape=(1213,))"
      ]
     },
     "execution_count": 22,
     "metadata": {},
     "output_type": "execute_result"
    }
   ],
   "source": [
    "# Inspecting other data\n",
    "quant_metadata['MRI_Track_Age_at_Scan'].values"
   ]
  },
  {
   "cell_type": "markdown",
   "metadata": {},
   "source": [
    "### Ideas for Dummy Variables\n",
    "Quantitative Metadata\n",
    "1. `MRI_Track,Age_at_Scan` - change this into categorical variables (e.g)"
   ]
  },
  {
   "cell_type": "markdown",
   "metadata": {},
   "source": [
    "## Combining the datasets into one giant training dataset"
   ]
  },
  {
   "cell_type": "code",
   "execution_count": 8,
   "metadata": {},
   "outputs": [
    {
     "data": {
      "text/plain": [
       "Index(['participant_id', 'Basic_Demos_Enroll_Year', 'Basic_Demos_Study_Site',\n",
       "       'PreInt_Demos_Fam_Child_Ethnicity', 'PreInt_Demos_Fam_Child_Race',\n",
       "       'MRI_Track_Scan_Location', 'Barratt_Barratt_P1_Edu',\n",
       "       'Barratt_Barratt_P1_Occ', 'Barratt_Barratt_P2_Edu',\n",
       "       'Barratt_Barratt_P2_Occ',\n",
       "       ...\n",
       "       'SDQ_SDQ_Emotional_Problems', 'SDQ_SDQ_Externalizing',\n",
       "       'SDQ_SDQ_Generating_Impact', 'SDQ_SDQ_Hyperactivity',\n",
       "       'SDQ_SDQ_Internalizing', 'SDQ_SDQ_Peer_Problems', 'SDQ_SDQ_Prosocial',\n",
       "       'MRI_Track_Age_at_Scan', 'ADHD_Outcome', 'Sex_F'],\n",
       "      dtype='object', length=19930)"
      ]
     },
     "execution_count": 8,
     "metadata": {},
     "output_type": "execute_result"
    }
   ],
   "source": [
    "merge_column = 'participant_id'\n",
    "\n",
    "merged_df = cat_metadata.merge(connectome_matrices, on=merge_column, how='outer')\n",
    "merged_df = merged_df.merge(quant_metadata, on=merge_column, how='outer')\n",
    "merged_df = merged_df.merge(sol, on=merge_column, how='outer')\n",
    "merged_df.columns\n"
   ]
  },
  {
   "cell_type": "code",
   "execution_count": null,
   "metadata": {},
   "outputs": [],
   "source": [
    "# Saving the merged data\n",
    "merged_df.to_csv('merged_data.csv', index=False)"
   ]
  }
 ],
 "metadata": {
  "kernelspec": {
   "display_name": "venv",
   "language": "python",
   "name": "python3"
  },
  "language_info": {
   "codemirror_mode": {
    "name": "ipython",
    "version": 3
   },
   "file_extension": ".py",
   "mimetype": "text/x-python",
   "name": "python",
   "nbconvert_exporter": "python",
   "pygments_lexer": "ipython3",
   "version": "3.11.9"
  }
 },
 "nbformat": 4,
 "nbformat_minor": 2
}
