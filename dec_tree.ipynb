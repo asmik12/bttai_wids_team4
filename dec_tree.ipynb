{
 "cells": [
  {
   "cell_type": "code",
   "execution_count": 1,
   "metadata": {},
   "outputs": [],
   "source": [
    "import pandas as pd\n",
    "import numpy as np\n",
    "from sklearn.model_selection import train_test_split\n",
    "from sklearn.tree import DecisionTreeClassifier\n",
    "from sklearn.metrics import accuracy_score, classification_report, f1_score, confusion_matrix\n"
   ]
  },
  {
   "cell_type": "code",
   "execution_count": 4,
   "metadata": {},
   "outputs": [],
   "source": [
    "file_path = \"./merged_data.csv\"\n",
    "df = pd.read_csv(file_path)\n",
    "\n",
    "# Drop participant_id \n",
    "participant_ids = df['participant_id']  # Save for submission\n",
    "df = df.drop(columns=['participant_id'])"
   ]
  },
  {
   "cell_type": "code",
   "execution_count": 5,
   "metadata": {},
   "outputs": [
    {
     "data": {
      "text/plain": [
       "<bound method NDFrame.head of      Basic_Demos_Enroll_Year  Basic_Demos_Study_Site  \\\n",
       "0                       2016                       1   \n",
       "1                       2019                       3   \n",
       "2                       2018                       3   \n",
       "3                       2019                       1   \n",
       "4                       2015                       1   \n",
       "..                       ...                     ...   \n",
       "848                     2018                       1   \n",
       "849                     2019                       1   \n",
       "850                     2016                       1   \n",
       "851                     2018                       3   \n",
       "852                     2018                       3   \n",
       "\n",
       "     PreInt_Demos_Fam_Child_Ethnicity  PreInt_Demos_Fam_Child_Race  \\\n",
       "0                                 1.0                            8   \n",
       "1                                 0.0                            1   \n",
       "2                                 0.0                            0   \n",
       "3                                 0.0                            0   \n",
       "4                                 0.0                            0   \n",
       "..                                ...                          ...   \n",
       "848                               1.0                            0   \n",
       "849                               0.0                            0   \n",
       "850                               0.0                            0   \n",
       "851                               0.0                            8   \n",
       "852                               1.0                            2   \n",
       "\n",
       "     MRI_Track_Scan_Location  Barratt_Barratt_P1_Edu  Barratt_Barratt_P1_Occ  \\\n",
       "0                          1                      18                      40   \n",
       "1                          3                      15                      20   \n",
       "2                          3                      18                      25   \n",
       "3                          2                      21                      40   \n",
       "4                          1                      21                      40   \n",
       "..                       ...                     ...                     ...   \n",
       "848                        2                      12                      35   \n",
       "849                        2                      21                      40   \n",
       "850                        1                      18                      35   \n",
       "851                        3                      21                      40   \n",
       "852                        2                      21                      40   \n",
       "\n",
       "     Barratt_Barratt_P2_Edu  Barratt_Barratt_P2_Occ  Basic_Demos_Study_Site_1  \\\n",
       "0                         0                       0                       1.0   \n",
       "1                         0                       0                       0.0   \n",
       "2                        15                      35                       0.0   \n",
       "3                        18                      40                       1.0   \n",
       "4                        18                      35                       1.0   \n",
       "..                      ...                     ...                       ...   \n",
       "848                       0                       0                       1.0   \n",
       "849                      21                      40                       1.0   \n",
       "850                       0                       0                       1.0   \n",
       "851                      18                      45                       0.0   \n",
       "852                      18                      45                       0.0   \n",
       "\n",
       "     ...  SDQ_SDQ_Emotional_Problems  SDQ_SDQ_Externalizing  \\\n",
       "0    ...                   -0.131478               0.091330   \n",
       "1    ...                    0.799236               0.797413   \n",
       "2    ...                   -0.596836              -0.614753   \n",
       "3    ...                    0.333879               0.797413   \n",
       "4    ...                    1.729951               1.503496   \n",
       "..   ...                         ...                    ...   \n",
       "848  ...                   -1.062193              -1.791558   \n",
       "849  ...                   -0.131478              -0.144031   \n",
       "850  ...                    0.333879               0.797413   \n",
       "851  ...                   -1.062193               0.326691   \n",
       "852  ...                   -1.062193               1.032774   \n",
       "\n",
       "     SDQ_SDQ_Generating_Impact  SDQ_SDQ_Hyperactivity  SDQ_SDQ_Internalizing  \\\n",
       "0                     0.341824               0.535724               0.414857   \n",
       "1                    -0.009896               1.586235               0.696828   \n",
       "2                    -1.065056              -0.164617              -0.149084   \n",
       "3                     0.693544               0.885894               0.132887   \n",
       "4                    -0.713336               1.236065               1.260770   \n",
       "..                         ...                    ...                    ...   \n",
       "848                  -1.416776              -1.915469              -1.276967   \n",
       "849                  -0.361616               0.185553              -0.713026   \n",
       "850                   1.748704              -0.164617               0.696828   \n",
       "851                  -0.361616              -0.164617              -1.276967   \n",
       "852                   0.693544               1.236065              -1.276967   \n",
       "\n",
       "     SDQ_SDQ_Peer_Problems  SDQ_SDQ_Prosocial  MRI_Track_Age_at_Scan  \\\n",
       "0                 0.833977           0.609217               8.239904   \n",
       "1                 0.358454           0.609217               8.940679   \n",
       "2                 0.358454           1.062674              16.768195   \n",
       "3                -0.117069          -0.751155              11.221309   \n",
       "4                 0.358454           1.062674               8.570841   \n",
       "..                     ...                ...                    ...   \n",
       "848              -1.068115           1.062674              10.564225   \n",
       "849              -1.068115           0.609217              10.697923   \n",
       "850               0.833977          -0.297698              13.964750   \n",
       "851              -1.068115           0.609217              12.089094   \n",
       "852              -1.068115           0.155760              12.595710   \n",
       "\n",
       "     ADHD_Outcome  Sex_F  \n",
       "0               1      0  \n",
       "1               1      1  \n",
       "2               1      0  \n",
       "3               1      0  \n",
       "4               1      1  \n",
       "..            ...    ...  \n",
       "848             0      0  \n",
       "849             0      0  \n",
       "850             0      1  \n",
       "851             0      0  \n",
       "852             0      0  \n",
       "\n",
       "[853 rows x 53 columns]>"
      ]
     },
     "execution_count": 5,
     "metadata": {},
     "output_type": "execute_result"
    }
   ],
   "source": [
    "df.head"
   ]
  },
  {
   "cell_type": "code",
   "execution_count": 6,
   "metadata": {},
   "outputs": [],
   "source": [
    "\n",
    "X = df.drop(columns=['ADHD_Outcome', 'Sex_F'])  # Features\n",
    "y_adhd = df['ADHD_Outcome']  # Target 1\n",
    "y_sex = df['Sex_F']          # Target 2\n",
    "\n",
    "#  (80%-20%)\n",
    "X_train, X_test, y_train_adhd, y_test_adhd = train_test_split(X, y_adhd, test_size=0.2, random_state=42)\n",
    "X_train_sex, X_test_sex, y_train_sex, y_test_sex = train_test_split(X, y_sex, test_size=0.2, random_state=42)"
   ]
  },
  {
   "cell_type": "code",
   "execution_count": 7,
   "metadata": {},
   "outputs": [],
   "source": [
    "# Train ADHD Outcome\n",
    "adhd_model = DecisionTreeClassifier(max_depth=5, random_state=42)\n",
    "adhd_model.fit(X_train, y_train_adhd)\n",
    "y_pred_adhd = adhd_model.predict(X_test)\n",
    "\n",
    "# Train Sex Classification\n",
    "sex_model = DecisionTreeClassifier(max_depth=5, random_state=42)\n",
    "sex_model.fit(X_train_sex, y_train_sex)\n",
    "y_pred_sex = sex_model.predict(X_test_sex)\n"
   ]
  },
  {
   "cell_type": "code",
   "execution_count": null,
   "metadata": {},
   "outputs": [
    {
     "name": "stdout",
     "output_type": "stream",
     "text": [
      "ADHD Model Evaluation:\n",
      "Accuracy: 0.7543859649122807\n",
      "Confusion Matrix:\n",
      " [[ 28  23]\n",
      " [ 19 101]]\n",
      "Classification Report:\n",
      "               precision    recall  f1-score   support\n",
      "\n",
      "           0       0.60      0.55      0.57        51\n",
      "           1       0.81      0.84      0.83       120\n",
      "\n",
      "    accuracy                           0.75       171\n",
      "   macro avg       0.71      0.70      0.70       171\n",
      "weighted avg       0.75      0.75      0.75       171\n",
      "\n",
      "\n",
      "Sex Model Evaluation:\n",
      "Accuracy: 0.6491228070175439\n",
      "Confusion Matrix:\n",
      " [[101  16]\n",
      " [ 44  10]]\n",
      "Classification Report:\n",
      "               precision    recall  f1-score   support\n",
      "\n",
      "           0       0.70      0.86      0.77       117\n",
      "           1       0.38      0.19      0.25        54\n",
      "\n",
      "    accuracy                           0.65       171\n",
      "   macro avg       0.54      0.52      0.51       171\n",
      "weighted avg       0.60      0.65      0.61       171\n",
      "\n"
     ]
    }
   ],
   "source": [
    "# ADHD Model\n",
    "print(\"ADHD Model Evaluation:\")\n",
    "print(\"Accuracy:\", accuracy_score(y_test_adhd, y_pred_adhd))\n",
    "print(\"Confusion Matrix:\\n\", confusion_matrix(y_test_adhd, y_pred_adhd))\n",
    "print(\"Classification Report:\\n\", classification_report(y_test_adhd, y_pred_adhd))\n",
    "\n",
    "# Sex Prediction Model\n",
    "print(\"\\nSex Model Evaluation:\")\n",
    "print(\"Accuracy:\", accuracy_score(y_test_sex, y_pred_sex))\n",
    "print(\"Confusion Matrix:\\n\", confusion_matrix(y_test_sex, y_pred_sex))\n",
    "print(\"Classification Report:\\n\", classification_report(y_test_sex, y_pred_sex))\n",
    "\n",
    "\n",
    "submission = pd.DataFrame({\n",
    "    'participant_id': participant_ids,\n",
    "    'ADHD_Outcome': adhd_model.predict(X),  # Predict ADHD\n",
    "    'Sex_F': sex_model.predict(X)           # Predict Sex\n",
    "})\n",
    "\n",
    "submission_file = \"./submission.csv\"\n",
    "submission.to_csv(submission_file, index=False)\n",
    "\n"
   ]
  },
  {
   "cell_type": "markdown",
   "metadata": {},
   "source": [
    "### Random Forest Classifier"
   ]
  },
  {
   "cell_type": "code",
   "execution_count": 11,
   "metadata": {},
   "outputs": [
    {
     "name": "stdout",
     "output_type": "stream",
     "text": [
      "Sex Classification Report:\n"
     ]
    },
    {
     "ename": "ValueError",
     "evalue": "Found input variables with inconsistent numbers of samples: [171, 853]",
     "output_type": "error",
     "traceback": [
      "\u001b[1;31m---------------------------------------------------------------------------\u001b[0m",
      "\u001b[1;31mValueError\u001b[0m                                Traceback (most recent call last)",
      "Cell \u001b[1;32mIn[11], line 13\u001b[0m\n\u001b[0;32m     10\u001b[0m y_adhd_pred \u001b[38;5;241m=\u001b[39m model_adhd\u001b[38;5;241m.\u001b[39mpredict(X)\n\u001b[0;32m     12\u001b[0m \u001b[38;5;28mprint\u001b[39m(\u001b[38;5;124m\"\u001b[39m\u001b[38;5;124mSex Classification Report:\u001b[39m\u001b[38;5;124m\"\u001b[39m)\n\u001b[1;32m---> 13\u001b[0m \u001b[38;5;28mprint\u001b[39m(\u001b[43mclassification_report\u001b[49m\u001b[43m(\u001b[49m\u001b[43my_test_sex\u001b[49m\u001b[43m,\u001b[49m\u001b[43m \u001b[49m\u001b[43my_sex_pred\u001b[49m\u001b[43m)\u001b[49m)\n\u001b[0;32m     15\u001b[0m \u001b[38;5;28mprint\u001b[39m(\u001b[38;5;124m\"\u001b[39m\u001b[38;5;124mADHD Diagnosis Classification Report:\u001b[39m\u001b[38;5;124m\"\u001b[39m)\n\u001b[0;32m     16\u001b[0m \u001b[38;5;28mprint\u001b[39m(classification_report(y_test_adhd, y_adhd_pred))\n",
      "File \u001b[1;32mc:\\Users\\asmi_\\Asmi's Documents\\Academics\\2022-26_UCLA\\2024-25_Junior Year\\Break Through Tech AI Program\\Kaggle Competition\\bttai_wids_team4\\venv\\Lib\\site-packages\\sklearn\\utils\\_param_validation.py:216\u001b[0m, in \u001b[0;36mvalidate_params.<locals>.decorator.<locals>.wrapper\u001b[1;34m(*args, **kwargs)\u001b[0m\n\u001b[0;32m    210\u001b[0m \u001b[38;5;28;01mtry\u001b[39;00m:\n\u001b[0;32m    211\u001b[0m     \u001b[38;5;28;01mwith\u001b[39;00m config_context(\n\u001b[0;32m    212\u001b[0m         skip_parameter_validation\u001b[38;5;241m=\u001b[39m(\n\u001b[0;32m    213\u001b[0m             prefer_skip_nested_validation \u001b[38;5;129;01mor\u001b[39;00m global_skip_validation\n\u001b[0;32m    214\u001b[0m         )\n\u001b[0;32m    215\u001b[0m     ):\n\u001b[1;32m--> 216\u001b[0m         \u001b[38;5;28;01mreturn\u001b[39;00m \u001b[43mfunc\u001b[49m\u001b[43m(\u001b[49m\u001b[38;5;241;43m*\u001b[39;49m\u001b[43margs\u001b[49m\u001b[43m,\u001b[49m\u001b[43m \u001b[49m\u001b[38;5;241;43m*\u001b[39;49m\u001b[38;5;241;43m*\u001b[39;49m\u001b[43mkwargs\u001b[49m\u001b[43m)\u001b[49m\n\u001b[0;32m    217\u001b[0m \u001b[38;5;28;01mexcept\u001b[39;00m InvalidParameterError \u001b[38;5;28;01mas\u001b[39;00m e:\n\u001b[0;32m    218\u001b[0m     \u001b[38;5;66;03m# When the function is just a wrapper around an estimator, we allow\u001b[39;00m\n\u001b[0;32m    219\u001b[0m     \u001b[38;5;66;03m# the function to delegate validation to the estimator, but we replace\u001b[39;00m\n\u001b[0;32m    220\u001b[0m     \u001b[38;5;66;03m# the name of the estimator by the name of the function in the error\u001b[39;00m\n\u001b[0;32m    221\u001b[0m     \u001b[38;5;66;03m# message to avoid confusion.\u001b[39;00m\n\u001b[0;32m    222\u001b[0m     msg \u001b[38;5;241m=\u001b[39m re\u001b[38;5;241m.\u001b[39msub(\n\u001b[0;32m    223\u001b[0m         \u001b[38;5;124mr\u001b[39m\u001b[38;5;124m\"\u001b[39m\u001b[38;5;124mparameter of \u001b[39m\u001b[38;5;124m\\\u001b[39m\u001b[38;5;124mw+ must be\u001b[39m\u001b[38;5;124m\"\u001b[39m,\n\u001b[0;32m    224\u001b[0m         \u001b[38;5;124mf\u001b[39m\u001b[38;5;124m\"\u001b[39m\u001b[38;5;124mparameter of \u001b[39m\u001b[38;5;132;01m{\u001b[39;00mfunc\u001b[38;5;241m.\u001b[39m\u001b[38;5;18m__qualname__\u001b[39m\u001b[38;5;132;01m}\u001b[39;00m\u001b[38;5;124m must be\u001b[39m\u001b[38;5;124m\"\u001b[39m,\n\u001b[0;32m    225\u001b[0m         \u001b[38;5;28mstr\u001b[39m(e),\n\u001b[0;32m    226\u001b[0m     )\n",
      "File \u001b[1;32mc:\\Users\\asmi_\\Asmi's Documents\\Academics\\2022-26_UCLA\\2024-25_Junior Year\\Break Through Tech AI Program\\Kaggle Competition\\bttai_wids_team4\\venv\\Lib\\site-packages\\sklearn\\metrics\\_classification.py:2671\u001b[0m, in \u001b[0;36mclassification_report\u001b[1;34m(y_true, y_pred, labels, target_names, sample_weight, digits, output_dict, zero_division)\u001b[0m\n\u001b[0;32m   2563\u001b[0m \u001b[38;5;250m\u001b[39m\u001b[38;5;124;03m\"\"\"Build a text report showing the main classification metrics.\u001b[39;00m\n\u001b[0;32m   2564\u001b[0m \n\u001b[0;32m   2565\u001b[0m \u001b[38;5;124;03mRead more in the :ref:`User Guide <classification_report>`.\u001b[39;00m\n\u001b[1;32m   (...)\u001b[0m\n\u001b[0;32m   2667\u001b[0m \u001b[38;5;124;03m<BLANKLINE>\u001b[39;00m\n\u001b[0;32m   2668\u001b[0m \u001b[38;5;124;03m\"\"\"\u001b[39;00m\n\u001b[0;32m   2670\u001b[0m y_true, y_pred \u001b[38;5;241m=\u001b[39m attach_unique(y_true, y_pred)\n\u001b[1;32m-> 2671\u001b[0m y_type, y_true, y_pred \u001b[38;5;241m=\u001b[39m \u001b[43m_check_targets\u001b[49m\u001b[43m(\u001b[49m\u001b[43my_true\u001b[49m\u001b[43m,\u001b[49m\u001b[43m \u001b[49m\u001b[43my_pred\u001b[49m\u001b[43m)\u001b[49m\n\u001b[0;32m   2673\u001b[0m \u001b[38;5;28;01mif\u001b[39;00m labels \u001b[38;5;129;01mis\u001b[39;00m \u001b[38;5;28;01mNone\u001b[39;00m:\n\u001b[0;32m   2674\u001b[0m     labels \u001b[38;5;241m=\u001b[39m unique_labels(y_true, y_pred)\n",
      "File \u001b[1;32mc:\\Users\\asmi_\\Asmi's Documents\\Academics\\2022-26_UCLA\\2024-25_Junior Year\\Break Through Tech AI Program\\Kaggle Competition\\bttai_wids_team4\\venv\\Lib\\site-packages\\sklearn\\metrics\\_classification.py:98\u001b[0m, in \u001b[0;36m_check_targets\u001b[1;34m(y_true, y_pred)\u001b[0m\n\u001b[0;32m     71\u001b[0m \u001b[38;5;250m\u001b[39m\u001b[38;5;124;03m\"\"\"Check that y_true and y_pred belong to the same classification task.\u001b[39;00m\n\u001b[0;32m     72\u001b[0m \n\u001b[0;32m     73\u001b[0m \u001b[38;5;124;03mThis converts multiclass or binary types to a common shape, and raises a\u001b[39;00m\n\u001b[1;32m   (...)\u001b[0m\n\u001b[0;32m     95\u001b[0m \u001b[38;5;124;03my_pred : array or indicator matrix\u001b[39;00m\n\u001b[0;32m     96\u001b[0m \u001b[38;5;124;03m\"\"\"\u001b[39;00m\n\u001b[0;32m     97\u001b[0m xp, _ \u001b[38;5;241m=\u001b[39m get_namespace(y_true, y_pred)\n\u001b[1;32m---> 98\u001b[0m \u001b[43mcheck_consistent_length\u001b[49m\u001b[43m(\u001b[49m\u001b[43my_true\u001b[49m\u001b[43m,\u001b[49m\u001b[43m \u001b[49m\u001b[43my_pred\u001b[49m\u001b[43m)\u001b[49m\n\u001b[0;32m     99\u001b[0m type_true \u001b[38;5;241m=\u001b[39m type_of_target(y_true, input_name\u001b[38;5;241m=\u001b[39m\u001b[38;5;124m\"\u001b[39m\u001b[38;5;124my_true\u001b[39m\u001b[38;5;124m\"\u001b[39m)\n\u001b[0;32m    100\u001b[0m type_pred \u001b[38;5;241m=\u001b[39m type_of_target(y_pred, input_name\u001b[38;5;241m=\u001b[39m\u001b[38;5;124m\"\u001b[39m\u001b[38;5;124my_pred\u001b[39m\u001b[38;5;124m\"\u001b[39m)\n",
      "File \u001b[1;32mc:\\Users\\asmi_\\Asmi's Documents\\Academics\\2022-26_UCLA\\2024-25_Junior Year\\Break Through Tech AI Program\\Kaggle Competition\\bttai_wids_team4\\venv\\Lib\\site-packages\\sklearn\\utils\\validation.py:475\u001b[0m, in \u001b[0;36mcheck_consistent_length\u001b[1;34m(*arrays)\u001b[0m\n\u001b[0;32m    473\u001b[0m uniques \u001b[38;5;241m=\u001b[39m np\u001b[38;5;241m.\u001b[39munique(lengths)\n\u001b[0;32m    474\u001b[0m \u001b[38;5;28;01mif\u001b[39;00m \u001b[38;5;28mlen\u001b[39m(uniques) \u001b[38;5;241m>\u001b[39m \u001b[38;5;241m1\u001b[39m:\n\u001b[1;32m--> 475\u001b[0m     \u001b[38;5;28;01mraise\u001b[39;00m \u001b[38;5;167;01mValueError\u001b[39;00m(\n\u001b[0;32m    476\u001b[0m         \u001b[38;5;124m\"\u001b[39m\u001b[38;5;124mFound input variables with inconsistent numbers of samples: \u001b[39m\u001b[38;5;132;01m%r\u001b[39;00m\u001b[38;5;124m\"\u001b[39m\n\u001b[0;32m    477\u001b[0m         \u001b[38;5;241m%\u001b[39m [\u001b[38;5;28mint\u001b[39m(l) \u001b[38;5;28;01mfor\u001b[39;00m l \u001b[38;5;129;01min\u001b[39;00m lengths]\n\u001b[0;32m    478\u001b[0m     )\n",
      "\u001b[1;31mValueError\u001b[0m: Found input variables with inconsistent numbers of samples: [171, 853]"
     ]
    }
   ],
   "source": [
    "from sklearn.ensemble import RandomForestClassifier\n",
    "# Model Training (Random Forest Classifier)\n",
    "model_sex = RandomForestClassifier(n_estimators=100, random_state=42)\n",
    "model_sex.fit(X_train, y_train_sex)\n",
    "\n",
    "model_adhd = RandomForestClassifier(n_estimators=100, random_state=42)\n",
    "model_adhd.fit(X_train, y_train_adhd)\n",
    "\n",
    "y_sex_pred = model_sex.predict(X)\n",
    "y_adhd_pred = model_adhd.predict(X)\n",
    "\n",
    "print(\"Sex Classification Report:\")\n",
    "print(classification_report(y_test_sex, y_sex_pred))\n",
    "\n",
    "print(\"ADHD Diagnosis Classification Report:\")\n",
    "print(classification_report(y_test_adhd, y_adhd_pred))"
   ]
  }
 ],
 "metadata": {
  "kernelspec": {
   "display_name": "venv",
   "language": "python",
   "name": "python3"
  },
  "language_info": {
   "codemirror_mode": {
    "name": "ipython",
    "version": 3
   },
   "file_extension": ".py",
   "mimetype": "text/x-python",
   "name": "python",
   "nbconvert_exporter": "python",
   "pygments_lexer": "ipython3",
   "version": "3.11.9"
  }
 },
 "nbformat": 4,
 "nbformat_minor": 2
}
